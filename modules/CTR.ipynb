{
  "cells": [
    {
      "cell_type": "markdown",
      "metadata": {
        "colab_type": "text",
        "id": "view-in-github"
      },
      "source": [
        "<a href=\"https://colab.research.google.com/github/RodrigoLSobrinho/Personal/blob/main/C%C3%B3pia_de_C%C3%A1lculo_de_TR.ipynb\" target=\"_parent\"><img src=\"https://colab.research.google.com/assets/colab-badge.svg\" alt=\"Open In Colab\"/></a>"
      ]
    },
    {
      "cell_type": "code",
      "execution_count": 14,
      "metadata": {
        "id": "95bSZ0gRvh-F"
      },
      "outputs": [],
      "source": [
        "import pandas as pd\n",
        "import numpy as np\n",
        "import scipy\n",
        "from scipy.optimize import curve_fit\n",
        "import plotly.express as px\n",
        "import plotly.graph_objects as go\n",
        "import matplotlib.pyplot as plt\n",
        "import plotly.io as pio"
      ]
    },
    {
      "cell_type": "code",
      "execution_count": 15,
      "metadata": {
        "id": "ydBsZTwvwDL0"
      },
      "outputs": [],
      "source": [
        "df = pd.read_csv(\"Simulacao_maturacao_1.csv\")"
      ]
    },
    {
      "cell_type": "code",
      "execution_count": 16,
      "metadata": {
        "id": "cr3eVP7iwRcN"
      },
      "outputs": [],
      "source": [
        "def filter_tr_values(row):\n",
        "    try:\n",
        "        if row['Taxa de Transformação [v/v]'] > 1:\n",
        "            row = 1\n",
        "        if row['Taxa de Transformação [v/v]'] < 0:\n",
        "            row = 0\n",
        "        else:\n",
        "            row = row['Taxa de Transformação [v/v]']\n",
        "        return row\n",
        "    except:\n",
        "        row = 1\n",
        "        return row"
      ]
    },
    {
      "cell_type": "code",
      "execution_count": 17,
      "metadata": {
        "id": "38H0FGMowSPe"
      },
      "outputs": [],
      "source": [
        "def tr_lamina_dagua(simulations_df, mediana_minimo, lamina_dagua, variavel_hi, variavel_hia, variavel_profundidade):\n",
        "    # O cálculo de tr seguirá os seguintes passos:\n",
        "    # 1. Calcular o tr em todas as amostras do poço com a equaçao Tr = (HIa - HI)/HIa onde HIa é indice de hidrogenio ativo e o HI é o indice de hidrogenio\n",
        "    # 2. Calcular a mediana ou o mínimo de todos os valores de Tr calculados no passo 1.\n",
        "    # 3. Onde a profunddidade for igual ou menor que a laminadagua, o valor de Tr será igual a zero.\n",
        "    # 4. Ajustar uma curva logaritmica com a profundidade da lamina dagua e a profundidade final e o tr na lamina dagua (zero) e o tr na profundidade final (mediana ou mínimo), utilizando scipy curve_fit\n",
        "    #import scipy\n",
        "\n",
        "    # 1. Calcular o tr em todas as amostras do poço com a equaçao Tr = (HIa - HI)/HIa onde HIa é indice de hidrogenio ativo e o HI é o indice de hidrogenio\n",
        "    simulations_df['Tr'] = (simulations_df[variavel_hia] - simulations_df[variavel_hi]) / simulations_df[variavel_hia]\n",
        "    simulations_df[\"Tr\"] = df.apply(filter_tr_values, axis=1)\n",
        "\n",
        "    # 2. Calcular a mediana ou o mínimo de todos os valores de Tr calculados no passo 1.\n",
        "    if mediana_minimo == 'mediana':\n",
        "        tr_mediana = simulations_df['Tr'].median()\n",
        "    if mediana_minimo == 'minimo':\n",
        "        tr_mediana = simulations_df['Tr'].min()\n",
        "\n",
        "    # 3. Onde a profunddidade for igual ou menor que a laminadagua, o valor de Tr será igual a zero.\n",
        "    simulations_df.loc[simulations_df[variavel_profundidade] <= lamina_dagua, 'Tr'] = 0\n",
        "\n",
        "    print(simulations_df[\"Tr\"])\n",
        "    print(tr_mediana)\n",
        "    # 4. Ajustar uma curva logaritmica com a profundidade da lamina dagua e a profundidade final e o tr na lamina dagua (zero) e o tr na profundidade final (mediana ou mínimo), utilizando scipy curve_fit\n",
        "    x = [lamina_dagua, simulations_df[variavel_profundidade].max()]\n",
        "    y = [0, tr_mediana]\n",
        "\n",
        "    log_fit = scipy.optimize.curve_fit(lambda t, a, b: a + b * np.log(t), x, y)\n",
        "    a = log_fit[0][0]\n",
        "    b = log_fit[0][1]\n",
        "\n",
        "    # 5. Calcular o tr em todas as amostras do poço com a equaçao Tr = a + b * ln(profundidade)\n",
        "    simulations_df['Tr'] = a + b * np.log(simulations_df[variavel_profundidade])\n",
        "\n",
        "    # Extra: aplicando novamente filtro para que tr seja 0 abaixo da lamina d'agua\n",
        "    simulations_df.loc[simulations_df[variavel_profundidade] <= lamina_dagua, 'Tr'] = 0\n",
        "\n",
        "    return simulations_df"
      ]
    },
    {
      "cell_type": "markdown",
      "metadata": {
        "id": "nqwT7rLd54WK"
      },
      "source": [
        "Dizendo para a função quais sao os nomes das variáveis correspondentes no df:"
      ]
    },
    {
      "cell_type": "code",
      "execution_count": 18,
      "metadata": {
        "id": "iFxLXqGMxP0J"
      },
      "outputs": [],
      "source": [
        "variavel_hia = 'IH₀ Ativo [mg HC/g COT]'\n",
        "variavel_hi = 'IH [mg HC/g COT'\n",
        "variavel_profundidade = \"Profundidade [m]\"\n",
        "mediana_minimo = \"mediana\"\n",
        "lamina_dagua = 3000"
      ]
    },
    {
      "cell_type": "code",
      "execution_count": 19,
      "metadata": {
        "colab": {
          "base_uri": "https://localhost:8080/"
        },
        "id": "8clCY8x_Z65q",
        "outputId": "d0393455-61b7-45e7-e8d9-6a7a3f2fe75b"
      },
      "outputs": [
        {
          "name": "stdout",
          "output_type": "stream",
          "text": [
            "0      0.000000\n",
            "1      0.000000\n",
            "2      0.000000\n",
            "3      0.000000\n",
            "4      0.000000\n",
            "         ...   \n",
            "123    0.466024\n",
            "124    0.468820\n",
            "125    0.471619\n",
            "126    0.474421\n",
            "127    0.480030\n",
            "Name: Tr, Length: 128, dtype: float64\n",
            "0.0\n"
          ]
        },
        {
          "name": "stderr",
          "output_type": "stream",
          "text": [
            "/home/victor/anaconda3/lib/python3.9/site-packages/scipy/optimize/_minpack_py.py:1010: OptimizeWarning:\n",
            "\n",
            "Covariance of the parameters could not be estimated\n",
            "\n"
          ]
        }
      ],
      "source": [
        "df = tr_lamina_dagua(df, \"minimo\", lamina_dagua, variavel_hi, variavel_hia, variavel_profundidade)"
      ]
    },
    {
      "cell_type": "code",
      "execution_count": 20,
      "metadata": {},
      "outputs": [
        {
          "name": "stdout",
          "output_type": "stream",
          "text": [
            "     Profundidade [m]  COT [%]  S1 [mg HC/g rocha]  S2 [mg HC/g rocha]  \\\n",
            "0                2400     1.01                2.29                2.60   \n",
            "1                2820     1.07                0.25                0.39   \n",
            "2                2829   681.00                0.62                0.92   \n",
            "3                2847     0.98                0.44                0.83   \n",
            "4                2856     1.27                0.54                1.01   \n",
            "..                ...      ...                 ...                 ...   \n",
            "123              5049     1.70                1.15                3.47   \n",
            "124              5052     1.30                1.00                2.69   \n",
            "125              5055     1.22                0.95                2.41   \n",
            "126              5058     1.17                0.96                2.42   \n",
            "127              5064     1.20                0.86                2.51   \n",
            "\n",
            "     S3 [mg CO2/g rocha]  Tmáx [°C]  IH [mg HC/g COT  IO [mg CO2/g COT]  \\\n",
            "0                   4.34        378         257.4258        429703.0000   \n",
            "1                   2.83        319          36.4486        264486.0000   \n",
            "2                   1.35        290         135.0955           198.2379   \n",
            "3                   1.43        288          84.6939           145.9184   \n",
            "4                   1.76        290          79.5276           138.5827   \n",
            "..                   ...        ...              ...                ...   \n",
            "123                 1.83        441         204.1176           107.6471   \n",
            "124                 2.27        440         206.9231           174.6154   \n",
            "125                 1.59        446      197541.0000           130.3279   \n",
            "126                 2.54        440         206.8376        217094.0000   \n",
            "127                 2.08        441         209.1666           173.3333   \n",
            "\n",
            "     Ro [%]  IH Calculado [mg HC/g COT]  ...  Carbono Ativo [%]  \\\n",
            "0       NaN                  257.425743  ...              1.010   \n",
            "1      0.25                   36.448598  ...              1.070   \n",
            "2       NaN                  135.095448  ...              0.681   \n",
            "3       NaN                   84.693878  ...              0.980   \n",
            "4       NaN                   79.527559  ...              1.270   \n",
            "..      ...                         ...  ...                ...   \n",
            "123     NaN                  204.117647  ...              1.700   \n",
            "124     NaN                  206.923077  ...              1.300   \n",
            "125     NaN                  197.540984  ...              1.220   \n",
            "126     NaN                  206.837607  ...              1.170   \n",
            "127     NaN                  209.166667  ...              1.200   \n",
            "\n",
            "     Carbono Inerte [%]  IH₀ Ativo [mg HC/g COT]  Ro [%]_ajustado  \\\n",
            "0         -5.295409e-16               257.425743         0.200000   \n",
            "1         -5.295409e-16                36.448598         0.185195   \n",
            "2         -5.295409e-16               135.095448         0.189143   \n",
            "3         -5.295409e-16                84.693878         0.197000   \n",
            "4         -5.295409e-16                79.527559         0.200911   \n",
            "..                  ...                      ...              ...   \n",
            "123        4.405924e-16               204.117647         0.906799   \n",
            "124        4.405924e-16               206.923077         0.907535   \n",
            "125       -5.295409e-16               197.540984         0.908271   \n",
            "126       -5.295409e-16               206.837607         0.909006   \n",
            "127       -5.295409e-16               209.166667         0.910474   \n",
            "\n",
            "     Taxa de Transformação [v/v]    COT₀ [%]  S2₀ [mg HC/g rocha]  \\\n",
            "0                       0.000000    1.010000             2.600000   \n",
            "1                       0.000000    1.070000             0.390000   \n",
            "2                       0.000000  681.000000             0.920000   \n",
            "3                       0.000000    0.980000             0.830000   \n",
            "4                       0.000000    1.270000             1.010000   \n",
            "..                           ...         ...                  ...   \n",
            "123                     0.466024    1.960444             6.498420   \n",
            "124                     0.468820    1.504181             5.064201   \n",
            "125                     0.471619    1.404995             4.561106   \n",
            "126                     0.474421    1.357862             4.604444   \n",
            "127                     0.480030    1.399280             4.827205   \n",
            "\n",
            "     Rₒ calculada [%]  IH₀ [mg HC/g COT]             Tr  \n",
            "0               0.000         257.425743   0.000000e+00  \n",
            "1               0.000          36.448598   0.000000e+00  \n",
            "2               0.000         135.095448   0.000000e+00  \n",
            "3               0.000          84.693878   0.000000e+00  \n",
            "4               0.000          79.527559   0.000000e+00  \n",
            "..                ...                ...            ...  \n",
            "123             0.778         331.476933 -6.497638e-317  \n",
            "124             0.760         336.674908 -6.512752e-317  \n",
            "125             0.868         324.635005 -6.527856e-317  \n",
            "126             0.760         339.095068 -6.542951e-317  \n",
            "127             0.778         344.977871 -6.573115e-317  \n",
            "\n",
            "[128 rows x 21 columns]\n"
          ]
        }
      ],
      "source": [
        "print(df)"
      ]
    },
    {
      "cell_type": "code",
      "execution_count": 21,
      "metadata": {
        "colab": {
          "base_uri": "https://localhost:8080/",
          "height": 542
        },
        "id": "bSOqm5Hc5ktI",
        "outputId": "4651fbac-71b1-4c2b-b543-43fc2cad644a"
      },
      "outputs": [
        {
          "data": {
            "application/vnd.plotly.v1+json": {
              "config": {
                "plotlyServerURL": "https://plot.ly"
              },
              "data": [
                {
                  "hovertemplate": "Profundidade [m]=%{x}<br>Tmáx [°C]=%{y}<extra></extra>",
                  "legendgroup": "",
                  "line": {
                    "color": "#636efa",
                    "dash": "solid"
                  },
                  "marker": {
                    "symbol": "circle"
                  },
                  "mode": "lines",
                  "name": "",
                  "orientation": "v",
                  "showlegend": false,
                  "type": "scatter",
                  "x": [
                    2400,
                    2820,
                    2829,
                    2847,
                    2856,
                    2865,
                    2874,
                    2883,
                    2892,
                    2901,
                    2910,
                    2919,
                    2928,
                    2937,
                    2946,
                    2955,
                    2964,
                    2973,
                    2982,
                    2991,
                    3000,
                    3006,
                    3012,
                    3018,
                    3024,
                    3030,
                    3036,
                    3042,
                    3054,
                    3060,
                    3072,
                    3090,
                    3228,
                    3507,
                    3516,
                    3684,
                    3759,
                    3786,
                    3831,
                    3876,
                    4002,
                    4083,
                    4131,
                    4203,
                    4245,
                    4287,
                    4317,
                    4347,
                    4407,
                    4443,
                    4473,
                    4497,
                    4521,
                    4533,
                    4569,
                    4614,
                    4641,
                    4653,
                    4671,
                    4674,
                    4689,
                    4713,
                    4728,
                    4740,
                    4752,
                    4770,
                    4785,
                    4800,
                    4827,
                    4842,
                    4854,
                    4866,
                    4878,
                    4881,
                    4884,
                    4887,
                    4890,
                    4893,
                    4896,
                    4899,
                    4902,
                    4905,
                    4908,
                    4911,
                    4914,
                    4917,
                    4920,
                    4923,
                    4926,
                    4929,
                    4932,
                    4935,
                    4938,
                    4941,
                    4944,
                    4947,
                    4950,
                    4953,
                    4956,
                    4959,
                    4962,
                    4965,
                    4968,
                    4971,
                    4974,
                    4977,
                    4980,
                    4983,
                    4986,
                    4989,
                    4992,
                    4995,
                    4998,
                    5001,
                    5004,
                    5007,
                    5010,
                    5013,
                    5016,
                    5019,
                    5022,
                    5043,
                    5046,
                    5049,
                    5052,
                    5055,
                    5058,
                    5064
                  ],
                  "xaxis": "x",
                  "y": [
                    378,
                    319,
                    290,
                    288,
                    290,
                    290,
                    291,
                    297,
                    290,
                    291,
                    335,
                    288,
                    291,
                    297,
                    290,
                    292,
                    292,
                    324,
                    345,
                    295,
                    315,
                    311,
                    314,
                    318,
                    316,
                    335,
                    315,
                    311,
                    321,
                    323,
                    322,
                    319,
                    315,
                    361,
                    397,
                    402,
                    422,
                    424,
                    419,
                    289,
                    289,
                    423,
                    406,
                    425,
                    426,
                    424,
                    296,
                    424,
                    427,
                    432,
                    431,
                    437,
                    423,
                    433,
                    437,
                    438,
                    433,
                    435,
                    402,
                    405,
                    422,
                    432,
                    435,
                    438,
                    436,
                    432,
                    435,
                    433,
                    436,
                    436,
                    438,
                    444,
                    441,
                    440,
                    439,
                    439,
                    436,
                    441,
                    438,
                    437,
                    438,
                    440,
                    441,
                    441,
                    440,
                    442,
                    442,
                    442,
                    440,
                    443,
                    441,
                    440,
                    441,
                    441,
                    441,
                    441,
                    443,
                    437,
                    441,
                    442,
                    437,
                    441,
                    443,
                    443,
                    443,
                    444,
                    443,
                    443,
                    443,
                    445,
                    443,
                    443,
                    444,
                    444,
                    445,
                    444,
                    445,
                    443,
                    441,
                    444,
                    445,
                    440,
                    438,
                    441,
                    440,
                    446,
                    440,
                    441
                  ],
                  "yaxis": "y"
                }
              ],
              "layout": {
                "legend": {
                  "tracegroupgap": 0
                },
                "margin": {
                  "t": 60
                },
                "template": {
                  "data": {
                    "bar": [
                      {
                        "error_x": {
                          "color": "#2a3f5f"
                        },
                        "error_y": {
                          "color": "#2a3f5f"
                        },
                        "marker": {
                          "line": {
                            "color": "#E5ECF6",
                            "width": 0.5
                          },
                          "pattern": {
                            "fillmode": "overlay",
                            "size": 10,
                            "solidity": 0.2
                          }
                        },
                        "type": "bar"
                      }
                    ],
                    "barpolar": [
                      {
                        "marker": {
                          "line": {
                            "color": "#E5ECF6",
                            "width": 0.5
                          },
                          "pattern": {
                            "fillmode": "overlay",
                            "size": 10,
                            "solidity": 0.2
                          }
                        },
                        "type": "barpolar"
                      }
                    ],
                    "carpet": [
                      {
                        "aaxis": {
                          "endlinecolor": "#2a3f5f",
                          "gridcolor": "white",
                          "linecolor": "white",
                          "minorgridcolor": "white",
                          "startlinecolor": "#2a3f5f"
                        },
                        "baxis": {
                          "endlinecolor": "#2a3f5f",
                          "gridcolor": "white",
                          "linecolor": "white",
                          "minorgridcolor": "white",
                          "startlinecolor": "#2a3f5f"
                        },
                        "type": "carpet"
                      }
                    ],
                    "choropleth": [
                      {
                        "colorbar": {
                          "outlinewidth": 0,
                          "ticks": ""
                        },
                        "type": "choropleth"
                      }
                    ],
                    "contour": [
                      {
                        "colorbar": {
                          "outlinewidth": 0,
                          "ticks": ""
                        },
                        "colorscale": [
                          [
                            0,
                            "#0d0887"
                          ],
                          [
                            0.1111111111111111,
                            "#46039f"
                          ],
                          [
                            0.2222222222222222,
                            "#7201a8"
                          ],
                          [
                            0.3333333333333333,
                            "#9c179e"
                          ],
                          [
                            0.4444444444444444,
                            "#bd3786"
                          ],
                          [
                            0.5555555555555556,
                            "#d8576b"
                          ],
                          [
                            0.6666666666666666,
                            "#ed7953"
                          ],
                          [
                            0.7777777777777778,
                            "#fb9f3a"
                          ],
                          [
                            0.8888888888888888,
                            "#fdca26"
                          ],
                          [
                            1,
                            "#f0f921"
                          ]
                        ],
                        "type": "contour"
                      }
                    ],
                    "contourcarpet": [
                      {
                        "colorbar": {
                          "outlinewidth": 0,
                          "ticks": ""
                        },
                        "type": "contourcarpet"
                      }
                    ],
                    "heatmap": [
                      {
                        "colorbar": {
                          "outlinewidth": 0,
                          "ticks": ""
                        },
                        "colorscale": [
                          [
                            0,
                            "#0d0887"
                          ],
                          [
                            0.1111111111111111,
                            "#46039f"
                          ],
                          [
                            0.2222222222222222,
                            "#7201a8"
                          ],
                          [
                            0.3333333333333333,
                            "#9c179e"
                          ],
                          [
                            0.4444444444444444,
                            "#bd3786"
                          ],
                          [
                            0.5555555555555556,
                            "#d8576b"
                          ],
                          [
                            0.6666666666666666,
                            "#ed7953"
                          ],
                          [
                            0.7777777777777778,
                            "#fb9f3a"
                          ],
                          [
                            0.8888888888888888,
                            "#fdca26"
                          ],
                          [
                            1,
                            "#f0f921"
                          ]
                        ],
                        "type": "heatmap"
                      }
                    ],
                    "heatmapgl": [
                      {
                        "colorbar": {
                          "outlinewidth": 0,
                          "ticks": ""
                        },
                        "colorscale": [
                          [
                            0,
                            "#0d0887"
                          ],
                          [
                            0.1111111111111111,
                            "#46039f"
                          ],
                          [
                            0.2222222222222222,
                            "#7201a8"
                          ],
                          [
                            0.3333333333333333,
                            "#9c179e"
                          ],
                          [
                            0.4444444444444444,
                            "#bd3786"
                          ],
                          [
                            0.5555555555555556,
                            "#d8576b"
                          ],
                          [
                            0.6666666666666666,
                            "#ed7953"
                          ],
                          [
                            0.7777777777777778,
                            "#fb9f3a"
                          ],
                          [
                            0.8888888888888888,
                            "#fdca26"
                          ],
                          [
                            1,
                            "#f0f921"
                          ]
                        ],
                        "type": "heatmapgl"
                      }
                    ],
                    "histogram": [
                      {
                        "marker": {
                          "pattern": {
                            "fillmode": "overlay",
                            "size": 10,
                            "solidity": 0.2
                          }
                        },
                        "type": "histogram"
                      }
                    ],
                    "histogram2d": [
                      {
                        "colorbar": {
                          "outlinewidth": 0,
                          "ticks": ""
                        },
                        "colorscale": [
                          [
                            0,
                            "#0d0887"
                          ],
                          [
                            0.1111111111111111,
                            "#46039f"
                          ],
                          [
                            0.2222222222222222,
                            "#7201a8"
                          ],
                          [
                            0.3333333333333333,
                            "#9c179e"
                          ],
                          [
                            0.4444444444444444,
                            "#bd3786"
                          ],
                          [
                            0.5555555555555556,
                            "#d8576b"
                          ],
                          [
                            0.6666666666666666,
                            "#ed7953"
                          ],
                          [
                            0.7777777777777778,
                            "#fb9f3a"
                          ],
                          [
                            0.8888888888888888,
                            "#fdca26"
                          ],
                          [
                            1,
                            "#f0f921"
                          ]
                        ],
                        "type": "histogram2d"
                      }
                    ],
                    "histogram2dcontour": [
                      {
                        "colorbar": {
                          "outlinewidth": 0,
                          "ticks": ""
                        },
                        "colorscale": [
                          [
                            0,
                            "#0d0887"
                          ],
                          [
                            0.1111111111111111,
                            "#46039f"
                          ],
                          [
                            0.2222222222222222,
                            "#7201a8"
                          ],
                          [
                            0.3333333333333333,
                            "#9c179e"
                          ],
                          [
                            0.4444444444444444,
                            "#bd3786"
                          ],
                          [
                            0.5555555555555556,
                            "#d8576b"
                          ],
                          [
                            0.6666666666666666,
                            "#ed7953"
                          ],
                          [
                            0.7777777777777778,
                            "#fb9f3a"
                          ],
                          [
                            0.8888888888888888,
                            "#fdca26"
                          ],
                          [
                            1,
                            "#f0f921"
                          ]
                        ],
                        "type": "histogram2dcontour"
                      }
                    ],
                    "mesh3d": [
                      {
                        "colorbar": {
                          "outlinewidth": 0,
                          "ticks": ""
                        },
                        "type": "mesh3d"
                      }
                    ],
                    "parcoords": [
                      {
                        "line": {
                          "colorbar": {
                            "outlinewidth": 0,
                            "ticks": ""
                          }
                        },
                        "type": "parcoords"
                      }
                    ],
                    "pie": [
                      {
                        "automargin": true,
                        "type": "pie"
                      }
                    ],
                    "scatter": [
                      {
                        "fillpattern": {
                          "fillmode": "overlay",
                          "size": 10,
                          "solidity": 0.2
                        },
                        "type": "scatter"
                      }
                    ],
                    "scatter3d": [
                      {
                        "line": {
                          "colorbar": {
                            "outlinewidth": 0,
                            "ticks": ""
                          }
                        },
                        "marker": {
                          "colorbar": {
                            "outlinewidth": 0,
                            "ticks": ""
                          }
                        },
                        "type": "scatter3d"
                      }
                    ],
                    "scattercarpet": [
                      {
                        "marker": {
                          "colorbar": {
                            "outlinewidth": 0,
                            "ticks": ""
                          }
                        },
                        "type": "scattercarpet"
                      }
                    ],
                    "scattergeo": [
                      {
                        "marker": {
                          "colorbar": {
                            "outlinewidth": 0,
                            "ticks": ""
                          }
                        },
                        "type": "scattergeo"
                      }
                    ],
                    "scattergl": [
                      {
                        "marker": {
                          "colorbar": {
                            "outlinewidth": 0,
                            "ticks": ""
                          }
                        },
                        "type": "scattergl"
                      }
                    ],
                    "scattermapbox": [
                      {
                        "marker": {
                          "colorbar": {
                            "outlinewidth": 0,
                            "ticks": ""
                          }
                        },
                        "type": "scattermapbox"
                      }
                    ],
                    "scatterpolar": [
                      {
                        "marker": {
                          "colorbar": {
                            "outlinewidth": 0,
                            "ticks": ""
                          }
                        },
                        "type": "scatterpolar"
                      }
                    ],
                    "scatterpolargl": [
                      {
                        "marker": {
                          "colorbar": {
                            "outlinewidth": 0,
                            "ticks": ""
                          }
                        },
                        "type": "scatterpolargl"
                      }
                    ],
                    "scatterternary": [
                      {
                        "marker": {
                          "colorbar": {
                            "outlinewidth": 0,
                            "ticks": ""
                          }
                        },
                        "type": "scatterternary"
                      }
                    ],
                    "surface": [
                      {
                        "colorbar": {
                          "outlinewidth": 0,
                          "ticks": ""
                        },
                        "colorscale": [
                          [
                            0,
                            "#0d0887"
                          ],
                          [
                            0.1111111111111111,
                            "#46039f"
                          ],
                          [
                            0.2222222222222222,
                            "#7201a8"
                          ],
                          [
                            0.3333333333333333,
                            "#9c179e"
                          ],
                          [
                            0.4444444444444444,
                            "#bd3786"
                          ],
                          [
                            0.5555555555555556,
                            "#d8576b"
                          ],
                          [
                            0.6666666666666666,
                            "#ed7953"
                          ],
                          [
                            0.7777777777777778,
                            "#fb9f3a"
                          ],
                          [
                            0.8888888888888888,
                            "#fdca26"
                          ],
                          [
                            1,
                            "#f0f921"
                          ]
                        ],
                        "type": "surface"
                      }
                    ],
                    "table": [
                      {
                        "cells": {
                          "fill": {
                            "color": "#EBF0F8"
                          },
                          "line": {
                            "color": "white"
                          }
                        },
                        "header": {
                          "fill": {
                            "color": "#C8D4E3"
                          },
                          "line": {
                            "color": "white"
                          }
                        },
                        "type": "table"
                      }
                    ]
                  },
                  "layout": {
                    "annotationdefaults": {
                      "arrowcolor": "#2a3f5f",
                      "arrowhead": 0,
                      "arrowwidth": 1
                    },
                    "autotypenumbers": "strict",
                    "coloraxis": {
                      "colorbar": {
                        "outlinewidth": 0,
                        "ticks": ""
                      }
                    },
                    "colorscale": {
                      "diverging": [
                        [
                          0,
                          "#8e0152"
                        ],
                        [
                          0.1,
                          "#c51b7d"
                        ],
                        [
                          0.2,
                          "#de77ae"
                        ],
                        [
                          0.3,
                          "#f1b6da"
                        ],
                        [
                          0.4,
                          "#fde0ef"
                        ],
                        [
                          0.5,
                          "#f7f7f7"
                        ],
                        [
                          0.6,
                          "#e6f5d0"
                        ],
                        [
                          0.7,
                          "#b8e186"
                        ],
                        [
                          0.8,
                          "#7fbc41"
                        ],
                        [
                          0.9,
                          "#4d9221"
                        ],
                        [
                          1,
                          "#276419"
                        ]
                      ],
                      "sequential": [
                        [
                          0,
                          "#0d0887"
                        ],
                        [
                          0.1111111111111111,
                          "#46039f"
                        ],
                        [
                          0.2222222222222222,
                          "#7201a8"
                        ],
                        [
                          0.3333333333333333,
                          "#9c179e"
                        ],
                        [
                          0.4444444444444444,
                          "#bd3786"
                        ],
                        [
                          0.5555555555555556,
                          "#d8576b"
                        ],
                        [
                          0.6666666666666666,
                          "#ed7953"
                        ],
                        [
                          0.7777777777777778,
                          "#fb9f3a"
                        ],
                        [
                          0.8888888888888888,
                          "#fdca26"
                        ],
                        [
                          1,
                          "#f0f921"
                        ]
                      ],
                      "sequentialminus": [
                        [
                          0,
                          "#0d0887"
                        ],
                        [
                          0.1111111111111111,
                          "#46039f"
                        ],
                        [
                          0.2222222222222222,
                          "#7201a8"
                        ],
                        [
                          0.3333333333333333,
                          "#9c179e"
                        ],
                        [
                          0.4444444444444444,
                          "#bd3786"
                        ],
                        [
                          0.5555555555555556,
                          "#d8576b"
                        ],
                        [
                          0.6666666666666666,
                          "#ed7953"
                        ],
                        [
                          0.7777777777777778,
                          "#fb9f3a"
                        ],
                        [
                          0.8888888888888888,
                          "#fdca26"
                        ],
                        [
                          1,
                          "#f0f921"
                        ]
                      ]
                    },
                    "colorway": [
                      "#636efa",
                      "#EF553B",
                      "#00cc96",
                      "#ab63fa",
                      "#FFA15A",
                      "#19d3f3",
                      "#FF6692",
                      "#B6E880",
                      "#FF97FF",
                      "#FECB52"
                    ],
                    "font": {
                      "color": "#2a3f5f"
                    },
                    "geo": {
                      "bgcolor": "white",
                      "lakecolor": "white",
                      "landcolor": "#E5ECF6",
                      "showlakes": true,
                      "showland": true,
                      "subunitcolor": "white"
                    },
                    "hoverlabel": {
                      "align": "left"
                    },
                    "hovermode": "closest",
                    "mapbox": {
                      "style": "light"
                    },
                    "paper_bgcolor": "white",
                    "plot_bgcolor": "#E5ECF6",
                    "polar": {
                      "angularaxis": {
                        "gridcolor": "white",
                        "linecolor": "white",
                        "ticks": ""
                      },
                      "bgcolor": "#E5ECF6",
                      "radialaxis": {
                        "gridcolor": "white",
                        "linecolor": "white",
                        "ticks": ""
                      }
                    },
                    "scene": {
                      "xaxis": {
                        "backgroundcolor": "#E5ECF6",
                        "gridcolor": "white",
                        "gridwidth": 2,
                        "linecolor": "white",
                        "showbackground": true,
                        "ticks": "",
                        "zerolinecolor": "white"
                      },
                      "yaxis": {
                        "backgroundcolor": "#E5ECF6",
                        "gridcolor": "white",
                        "gridwidth": 2,
                        "linecolor": "white",
                        "showbackground": true,
                        "ticks": "",
                        "zerolinecolor": "white"
                      },
                      "zaxis": {
                        "backgroundcolor": "#E5ECF6",
                        "gridcolor": "white",
                        "gridwidth": 2,
                        "linecolor": "white",
                        "showbackground": true,
                        "ticks": "",
                        "zerolinecolor": "white"
                      }
                    },
                    "shapedefaults": {
                      "line": {
                        "color": "#2a3f5f"
                      }
                    },
                    "ternary": {
                      "aaxis": {
                        "gridcolor": "white",
                        "linecolor": "white",
                        "ticks": ""
                      },
                      "baxis": {
                        "gridcolor": "white",
                        "linecolor": "white",
                        "ticks": ""
                      },
                      "bgcolor": "#E5ECF6",
                      "caxis": {
                        "gridcolor": "white",
                        "linecolor": "white",
                        "ticks": ""
                      }
                    },
                    "title": {
                      "x": 0.05
                    },
                    "xaxis": {
                      "automargin": true,
                      "gridcolor": "white",
                      "linecolor": "white",
                      "ticks": "",
                      "title": {
                        "standoff": 15
                      },
                      "zerolinecolor": "white",
                      "zerolinewidth": 2
                    },
                    "yaxis": {
                      "automargin": true,
                      "gridcolor": "white",
                      "linecolor": "white",
                      "ticks": "",
                      "title": {
                        "standoff": 15
                      },
                      "zerolinecolor": "white",
                      "zerolinewidth": 2
                    }
                  }
                },
                "xaxis": {
                  "anchor": "y",
                  "domain": [
                    0,
                    1
                  ],
                  "title": {
                    "text": "Profundidade [m]"
                  }
                },
                "yaxis": {
                  "anchor": "x",
                  "domain": [
                    0,
                    1
                  ],
                  "title": {
                    "text": "Tmáx [°C]"
                  }
                }
              }
            }
          },
          "metadata": {},
          "output_type": "display_data"
        }
      ],
      "source": [
        "pio.renderers.default = \"vscode\"\n",
        "fig = px.line(y='Tmáx [°C]', x=variavel_profundidade, data_frame=df)\n",
        "fig.show()"
      ]
    },
    {
      "cell_type": "code",
      "execution_count": null,
      "metadata": {},
      "outputs": [],
      "source": []
    }
  ],
  "metadata": {
    "colab": {
      "include_colab_link": true,
      "provenance": []
    },
    "kernelspec": {
      "display_name": "Python 3",
      "name": "python3"
    },
    "language_info": {
      "codemirror_mode": {
        "name": "ipython",
        "version": 3
      },
      "file_extension": ".py",
      "mimetype": "text/x-python",
      "name": "python",
      "nbconvert_exporter": "python",
      "pygments_lexer": "ipython3",
      "version": "3.9.7"
    }
  },
  "nbformat": 4,
  "nbformat_minor": 0
}
