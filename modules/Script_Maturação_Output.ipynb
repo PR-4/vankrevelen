{
 "cells": [
  {
   "cell_type": "markdown",
   "metadata": {},
   "source": [
    "### Escopo para cálculo de parâmetros da aba Maturação "
   ]
  },
  {
   "cell_type": "code",
   "execution_count": null,
   "metadata": {},
   "outputs": [],
   "source": [
    "# Input de dados de pirólise (leitura de planilha .csv)\n",
    "# Agrupamento de dados (cluster)\n",
    "# Cálculo de COTa\n",
    "# Cálculo de IHa = 100 x (S2/(COTa))\n",
    "# Calculo de Tr sem vitrinita: (IHa - IH)/ IHa\n",
    "# Cálculo de Ro a partir de Tmax: Ro calculada = (0,0180 x Tmax) - 7,16\n",
    "# Classificação do querogênio\n",
    "# Cálculo de Tr por Ro e tipo de querogênio\n",
    "# Normalização dos valores de Tr na curva log (ln)\n",
    "# Cálculo de TOC0, S20 e IH0\n",
    "# Comparação entre os resultados de Tr (Ro x IH)\n",
    "# Decisão sobre resultados de Tr\n",
    "# Output (Gráficos e Planilha)  "
   ]
  },
  {
   "cell_type": "markdown",
   "metadata": {},
   "source": [
    "##### Dependências"
   ]
  },
  {
   "cell_type": "code",
   "execution_count": null,
   "metadata": {},
   "outputs": [],
   "source": [
    "%matplotlib inline\n",
    "import pandas as pd\n",
    "import scipy\n",
    "import numpy as np\n",
    "import matplotlib.pyplot as plt\n",
    "from sklearn.linear_model import LinearRegression\n",
    "from sklearn.cluster import KMeans\n",
    "from sklearn.preprocessing import StandardScaler\n",
    "import seaborn as sns\n",
    "from matplotlib.gridspec import GridSpec\n",
    "import matplotlib.patches as patches"
   ]
  },
  {
   "cell_type": "markdown",
   "metadata": {},
   "source": [
    "##### Customização dos gráficos"
   ]
  },
  {
   "cell_type": "code",
   "execution_count": null,
   "metadata": {},
   "outputs": [],
   "source": [
    "# keys = plt.rcParams.keys()\n",
    "# print(keys)\n",
    "# 'font.sans-serif': \"Verdana\",\n",
    "\n",
    "custom_style = {\n",
    "    'figure.figsize': (8, 6),\n",
    "    'font.family':'sans-serif',\n",
    "    'axes.facecolor': 'lightgray',\n",
    "    'figure.facecolor':'silver',\n",
    "    'scatter.marker': 'o',\n",
    "    'font.size': 9,\n",
    "    'axes.grid': True\n",
    "    }"
   ]
  },
  {
   "cell_type": "markdown",
   "metadata": {},
   "source": [
    "##### Input de dados de pirólise (leitura de planilha .csv)"
   ]
  },
  {
   "cell_type": "code",
   "execution_count": null,
   "metadata": {},
   "outputs": [],
   "source": [
    "df = pd.read_csv(\"Poços_Marinho/7-GA-36-SES.csv\")\n",
    "df"
   ]
  },
  {
   "cell_type": "markdown",
   "metadata": {},
   "source": [
    "##### Agrupamento por parâmetros de pirólise"
   ]
  },
  {
   "cell_type": "code",
   "execution_count": null,
   "metadata": {},
   "outputs": [],
   "source": [
    "# Number of clusters you want to create\n",
    "num_clusters = 3  \n",
    "\n",
    "# Extract the columns for clustering\n",
    "\n",
    "X = df[[\"COT\",\"S1\",\"S2\",\"S3\",\"Tmax\"]].fillna(0)\n",
    "\n",
    "# Optional: Scale the data (if needed)\n",
    "#scaler = StandardScaler()\n",
    "#X_scaled = scaler.fit_transform(X)\n",
    "\n",
    "# Apply k-means clustering\n",
    "kmeans = KMeans(n_clusters=num_clusters, random_state=42)\n",
    "kmeans.fit(X)  # Use X_scaled if you scaled the data, otherwise use X\n",
    "\n",
    "# Get cluster assignments and centroids\n",
    "cluster_labels = kmeans.labels_\n",
    "centroids = kmeans.cluster_centers_\n",
    "\n",
    "# Add cluster labels to the original data frame\n",
    "df['Cluster'] = cluster_labels\n",
    "\n",
    "# Scatter plot\n",
    "plt.figure(figsize=(8, 6))\n",
    "\n",
    "# Plot data points for each cluster\n",
    "for cluster_id in range(num_clusters):\n",
    "    cluster_data = df[df['Cluster'] == cluster_id]\n",
    "    plt.scatter(cluster_data[\"S2\"], cluster_data[\"COT\"], label=f'Cluster {cluster_id}')\n",
    "\n",
    "# Extract data from DataFrame\n",
    "df1=df.dropna(subset=[\"COT\",\"S2\"])\n",
    "x_data = df1['S2'].values.reshape(-1, 1)\n",
    "y_data = df1['COT'].values\n",
    "\n",
    "# Fit linear regression model\n",
    "model = LinearRegression()\n",
    "model.fit(x_data, y_data)\n",
    "\n",
    "# Get the slope (coefficient) and y-intercept of the trend line\n",
    "slope = model.coef_[0]\n",
    "intercept = model.intercept_\n",
    "\n",
    "\n",
    "# Plot the trend line\n",
    "plt.plot(x_data, model.predict(x_data), color='gray', label='Linha de Tendência')\n",
    "\n",
    "plt.xlabel(\"S2 (mg HC/mg rocha)\")\n",
    "plt.ylabel(\"COT\")\n",
    "plt.title('')\n",
    "plt.legend()\n",
    "plt.grid(True)\n",
    "plt.style.use(custom_style)\n",
    "plt.show()\n",
    "df"
   ]
  },
  {
   "cell_type": "markdown",
   "metadata": {},
   "source": [
    "##### Equação de regressão linear para cada cluster"
   ]
  },
  {
   "cell_type": "code",
   "execution_count": null,
   "metadata": {
    "tags": []
   },
   "outputs": [],
   "source": [
    "models = {}\n",
    "\n",
    "for cluster_id in range(num_clusters):\n",
    "    cluster_data = df[df['Cluster'] == cluster_id]\n",
    "    x_values = cluster_data[[\"S2\"]].fillna(value=0)\n",
    "    y_values = cluster_data[\"COT\"]\n",
    "    model = LinearRegression()\n",
    "    model.fit(x_values, y_values)\n",
    "    models[cluster_id] = model\n",
    "\n",
    "# Print the linear regression equations for each cluster\n",
    "dic={}\n",
    "for cluster_id, model in models.items():\n",
    "    slope = model.coef_[0]\n",
    "    intercept = model.intercept_\n",
    "    print(f\"Cluster {cluster_id} - y = {slope:.2f} * x + {intercept:.2f}\")\n",
    "    #dic={cluster_id:intercept}\n",
    "    dic[cluster_id]=intercept\n",
    "    print(dic)"
   ]
  },
  {
   "cell_type": "code",
   "execution_count": null,
   "metadata": {},
   "outputs": [],
   "source": [
    "dic[1]"
   ]
  },
  {
   "cell_type": "markdown",
   "metadata": {},
   "source": [
    "##### Cálculo de COT ativo utilizando regressão linear"
   ]
  },
  {
   "cell_type": "code",
   "execution_count": null,
   "metadata": {},
   "outputs": [],
   "source": [
    "COTativo=[]\n",
    "for idx,row in df.iterrows():\n",
    "    #print(row[\"Cluster\"])\n",
    "    Cluster=row[\"Cluster\"]\n",
    "    COT=row[\"COT\"]\n",
    "    intercept=dic[Cluster]\n",
    "    COTa= COT- intercept\n",
    "    COTativo.append(COTa)\n",
    "df[\"COTa\"]=COTativo\n",
    "df\n",
    "COT_cor=[]\n",
    "for i in df[\"COTa\"]:\n",
    "    if i >= 0:\n",
    "        COT_cor.append(i)\n",
    "    else:\n",
    "        COT_cor.append(0)\n",
    "df[\"COTa\"]=COT_cor\n",
    "df\n"
   ]
  },
  {
   "cell_type": "markdown",
   "metadata": {},
   "source": [
    "##### Cálculo de IH0ativo\n",
    "* IHa = 100 x (S2/(COTa))"
   ]
  },
  {
   "cell_type": "code",
   "execution_count": null,
   "metadata": {},
   "outputs": [],
   "source": [
    "IHa = 100*(df[\"S2\"]/df[\"COTa\"])\n",
    "IHa_cor=[]\n",
    "for i in IHa:\n",
    "    if i<0:\n",
    "        IHa_cor.append(0)\n",
    "    elif i>=0 or i<=999:\n",
    "        IHa_cor.append(i)\n",
    "    else:\n",
    "        IHa_cor.append(999) # Eliminar valores\n",
    "df[\"IH0a\"]= IHa_cor\n",
    "df"
   ]
  },
  {
   "cell_type": "markdown",
   "metadata": {},
   "source": [
    "##### Calculo da Taxa de Transformação sem Ro (IH)\n",
    "* (IHa - IH)/ IHa"
   ]
  },
  {
   "cell_type": "code",
   "execution_count": null,
   "metadata": {},
   "outputs": [],
   "source": [
    "df[\"Taxa de Transformação (IH)\"] = ((df[\"IH0a\"]-df[\"IH\"])/df[\"IH0a\"])\n",
    "TrIH=[]\n",
    "for i in df[\"Taxa de Transformação (IH)\"]:\n",
    "    if i<0:\n",
    "        TrIH.append(0)\n",
    "    elif i>1:\n",
    "        TrIH.append=1\n",
    "    else:\n",
    "        TrIH.append(i)\n",
    "df[\"Taxa de Transformação (IH)\"]=TrIH\n",
    "df"
   ]
  },
  {
   "cell_type": "markdown",
   "metadata": {},
   "source": [
    "##### Cálculo de Ro a partir de Tmax\n",
    "* Ro calculada = (0,0180 x Tmax) - 7,16"
   ]
  },
  {
   "cell_type": "code",
   "execution_count": null,
   "metadata": {},
   "outputs": [],
   "source": [
    "df[\"Ro (calculada)\"] = (0.0180*df[\"Tmax\"])-7.16\n",
    "Roc_cor=[]\n",
    "for i in df[\"Ro (calculada)\"]:\n",
    "    if i<0:\n",
    "        Roc_cor.append(0)\n",
    "    else:\n",
    "        Roc_cor.append(i)\n",
    "df[\"Ro (calculada)\"]=Roc_cor\n",
    "df"
   ]
  },
  {
   "cell_type": "markdown",
   "metadata": {},
   "source": [
    "#### Classificação do querogênio\n",
    "* Tipo I: {IH > 600} ___ {S1/S3 > 15}\n",
    "* Tipo II: {IH > 300 and IH <= 600} ___ {S1/S3 > 10 and S1/S3 <15}\n",
    "* Tipo II/III: {IH > 200 and IH <=300} ___ {S1/S3 > 5 and S1/S3 < 10]\n",
    "* Tipo III: {IH > 50 and IH <= 200} ___ {S1/S3 > 1 and S1/S3 < 5}\n",
    "* Tipo IV: {IH <= 50} ___ {S1/S3 > 1}"
   ]
  },
  {
   "cell_type": "code",
   "execution_count": null,
   "metadata": {},
   "outputs": [],
   "source": [
    "\n",
    "K = []\n",
    "for i in df[\"IH\"]:\n",
    "    if i > 600:\n",
    "        a=\"Tipo I\"\n",
    "    elif i > 300 and i <=600:\n",
    "        a=\"Tipo II\"\n",
    "    elif i > 200 and i <= 300:\n",
    "        a=\"Tipo II/III\"\n",
    "    elif i > 50 and i <= 200:\n",
    "        a=\"Tipo III\"\n",
    "    elif i>0 and i<=50:\n",
    "        a=\"Tipo IV\"\n",
    "    else:\n",
    "        a=\"\"\n",
    "    K.append(a)\n",
    "querogênio=pd.DataFrame(K)\n",
    "df[\"Querogênio\"]=querogênio\n",
    "df\n"
   ]
  },
  {
   "cell_type": "markdown",
   "metadata": {},
   "source": [
    "#### End Member para tipo de querogênio"
   ]
  },
  {
   "cell_type": "code",
   "execution_count": null,
   "metadata": {},
   "outputs": [],
   "source": [
    "# End Member\n",
    "\n",
    "T1 = []\n",
    "T2 = []\n",
    "T3 = []\n",
    "T4 = []\n",
    "for i in df[\"IH\"]: \n",
    "    if i >= 600:\n",
    "        end = ((i - 999)/(600 - 999))*100\n",
    "        T1.append(100) \n",
    "        T2.append(0)\n",
    "        T3.append(0)\n",
    "        T4.append(0) \n",
    "    elif i >= 300 and i <=600:\n",
    "        end = ((i - 600)/(300 - 600))*100\n",
    "        T1.append(100-end) \n",
    "        T2.append(end)\n",
    "        T3.append(0)\n",
    "        T4.append(0) \n",
    "    elif i >= 50 and i < 300:\n",
    "        end = ((i - 300)/(50 - 300))*100\n",
    "        T1.append(0) \n",
    "        T2.append(100-end)\n",
    "        T3.append(end)\n",
    "        T4.append(0) \n",
    "    else:\n",
    "        end = ((i - 50)/(0 - 50))*100\n",
    "        T1.append(0) \n",
    "        T2.append(0)\n",
    "        T3.append(100-end)\n",
    "        T4.append(end) \n",
    "df[\"% Tipo I\"]=T1\n",
    "df[\"% Tipo II\"]=T2\n",
    "df[\"% Tipo III\"]=T3\n",
    "df[\"% Tipo IV\"]=T4\n",
    "df\n",
    "\n",
    "\n"
   ]
  },
  {
   "cell_type": "markdown",
   "metadata": {},
   "source": [
    "#### Decisão sobre tipo de Querogênio"
   ]
  },
  {
   "cell_type": "code",
   "execution_count": null,
   "metadata": {},
   "outputs": [],
   "source": [
    "TI=df[\"% Tipo I\"]\n",
    "TII=df[\"% Tipo II\"]\n",
    "TIII=df[\"% Tipo III\"]\n",
    "TIV=df[\"% Tipo IV\"]\n",
    "data=[TI,TII,TIII,TIV]\n",
    "plt.boxplot(data)\n",
    "custom_labels_x = ['% Tipo I', '% Tipo II', '% Tipo III', '% Tipo IV']\n",
    "plt.xticks(np.arange(1, len(custom_labels_x) + 1), custom_labels_x)\n",
    "plt.style.use(custom_style)\n",
    "plt.show()"
   ]
  },
  {
   "cell_type": "markdown",
   "metadata": {},
   "source": [
    "#### Cálculo de Tr por Ro e tipo de querogênio\n",
    "* Tipo_I = -34.430609 + (183.63837 * Ro) - (361.494 * Ro**2) + (309.9 * Ro**3) - (96.8 * Ro**4)\n",
    "* Tipo_II = -822.70308 + (6217.2684 * Ro) - (19265.314 * Ro**2) + (31326.872 * Ro**3) - (28204.703 * Ro**4) + (13345.477 * Ro**5) - (2595.9299 * Ro**6)\n",
    "* Tipo_III = 6.6516023 - (33.879196 * Ro) + (64.978399 * Ro**2) - (60.264818 * Ro**3) + (29.700408 * Ro**4) - (7.5019085 * Ro**5) + (0.7656397 * Ro**6)\n"
   ]
  },
  {
   "cell_type": "code",
   "execution_count": null,
   "metadata": {},
   "outputs": [],
   "source": [
    "Ro = df[\"Ro (calculada)\"].mean()\n",
    "print(\"Valor medio da Ro calculada:\", Ro )\n",
    "#for Ro in df[\"Ro (calculada)\"]:\n",
    "Eq_I = -34.430609 + (183.63837 * Ro) - (361.494 * Ro**2) + (309.9 * Ro**3) - (96.8 * Ro**4)\n",
    "Eq_II = -822.70308 + (6217.2684 * Ro) - (19265.314 * Ro**2) + (31326.872 * Ro**3) - (28204.703 * Ro**4) + (13345.477 * Ro**5) - (2595.9299 * Ro**6)\n",
    "Eq_III = 6.6516023 - (33.879196 * Ro) + (64.978399 * Ro**2) - (60.264818 * Ro**3) + (29.700408 * Ro**4) - (7.5019085 * Ro**5) + (0.7656397 * Ro**6)\n",
    "    \n",
    "if TI.mean()+TI.std() > TII.mean()+TII.std() and TI.mean()+TI.std() > TIII.mean()+TIII.std() and TI.mean()+TI.std() > TIV.mean()+TIV.std():\n",
    "    TRo=Eq_I\n",
    "    print(\"Querogênio Tipo I\")\n",
    "elif TII.mean()+TII.std() > TI.mean()+TI.std() and TII.mean()+TII.std() > TIII.mean()+TIII.std() and TII.mean()+TII.std() > TIV.mean()+TIV.std():\n",
    "    TRo=Eq_II\n",
    "    print(\"Querogênio Tipo II\")\n",
    "elif TIII.mean()+TIII.std() > TI.mean()+TI.std() and TIII.mean()+TIII.std() > TII.mean()+TII.std() and TIII.mean()+TIII.std() > TIV.mean()+TIV.std():\n",
    "    TRo=Eq_III\n",
    "    print(\"Querogênio Tipo III\")\n",
    "else:\n",
    "    TRo=0\n",
    "    print(\"Querogênio Tipo IV\")\n",
    "print(\"Taxa de TRansformação (Ro):\", TRo)\n",
    "\n",
    "if i > 1:\n",
    "    TRo = 1\n",
    "elif TRo < 0:\n",
    "    TRo = 0\n",
    "else:\n",
    "    TRo = TRo\n",
    "#df[\"Taxa de Transformação (Ro)\"]=TRo\n",
    "#df"
   ]
  },
  {
   "cell_type": "markdown",
   "metadata": {},
   "source": [
    "#### Normalização dos valores de Tr na curva log (ln)"
   ]
  },
  {
   "cell_type": "code",
   "execution_count": null,
   "metadata": {},
   "outputs": [],
   "source": [
    "L = float(input(\"Lâmina d'água: \"))\n",
    "\n",
    "\n",
    "MRo = TRo#df[\"Taxa de Transformação (Ro)\"].mean()\n",
    "MIH = df[\"Taxa de Transformação (IH)\"].median()\n",
    "MinIH = df[\"Taxa de Transformação (IH)\"].min()\n",
    "MedIH = df[\"Taxa de Transformação (IH)\"].mean()\n",
    "\n",
    "    # 4. Ajustar uma curva logaritmica com a profundidade da lamina dagua e a profundidade final e o tr na lamina dagua (zero) e o tr na profundidade final (mediana ou mínimo), utilizando scipy curve_fit\n",
    "\n",
    "# Cálculo para valores de Ro calculada\n",
    "x1 = [L, df[\"Profundidade\"].max()]\n",
    "y1 = [0, MRo]\n",
    "\n",
    "log_fit = scipy.optimize.curve_fit(lambda t, a1, b1: a1 + b1 * np.log(t), x1, y1)\n",
    "a1 = log_fit[0][0]\n",
    "b1 = log_fit[0][1]\n",
    "\n",
    "    # 5. Calcular o tr em todas as amostras do poço com a equaçao Tr = a + b * ln(profundidade)\n",
    "df['Tr_Ro_Log'] = a1 + b1 * np.log(df[\"Profundidade\"])\n",
    "\n",
    "#================================================#\n",
    "\n",
    "# Cálculo para valores de IH (mediana)\n",
    "x2 = [L, df[\"Profundidade\"].max()]\n",
    "y2 = [0, MIH]\n",
    "\n",
    "log_fit = scipy.optimize.curve_fit(lambda t, a2, b2: a2 + b2 * np.log(t), x2, y2)\n",
    "a2 = log_fit[0][0]\n",
    "b2 = log_fit[0][1]\n",
    "\n",
    "    # 5. Calcular o tr em todas as amostras do poço com a equaçao Tr = a + b * ln(profundidade)\n",
    "df['Tr_IH_Log (mdn)'] = a2 + b2 * np.log(df[\"Profundidade\"])\n",
    "df\n",
    "\n",
    "#================================================#\n",
    "\n",
    "# Cálculo para valores de IH (mínimo)\n",
    "x2 = [L, df[\"Profundidade\"].max()]\n",
    "y2 = [0, MinIH]\n",
    "\n",
    "log_fit = scipy.optimize.curve_fit(lambda t, a2, b2: a2 + b2 * np.log(t), x2, y2)\n",
    "a2 = log_fit[0][0]\n",
    "b2 = log_fit[0][1]\n",
    "\n",
    "    # 5. Calcular o tr em todas as amostras do poço com a equaçao Tr = a + b * ln(profundidade)\n",
    "df['Tr_IH_Log (min)'] = a2 + b2 * np.log(df[\"Profundidade\"])\n",
    "df\n",
    "#================================================#\n",
    "\n",
    "# Cálculo para valores de IH (média)\n",
    "x2 = [L, df[\"Profundidade\"].max()]\n",
    "y2 = [0, MedIH]\n",
    "\n",
    "log_fit = scipy.optimize.curve_fit(lambda t, a2, b2: a2 + b2 * np.log(t), x2, y2)\n",
    "a2 = log_fit[0][0]\n",
    "b2 = log_fit[0][1]\n",
    "\n",
    "    # 5. Calcular o tr em todas as amostras do poço com a equaçao Tr = a + b * ln(profundidade)\n",
    "df['Tr_IH_Log (med)'] = a2 + b2 * np.log(df[\"Profundidade\"])\n",
    "df\n",
    "    # Extra: aplicando novamente filtro para que tr seja 0 abaixo da lamina d'agua\n"
   ]
  },
  {
   "cell_type": "markdown",
   "metadata": {},
   "source": [
    "#### Gráficos da curvas Log pra Taxa de Transformação"
   ]
  },
  {
   "cell_type": "code",
   "execution_count": null,
   "metadata": {},
   "outputs": [],
   "source": [
    "fig = plt.figure()\n",
    "ax = fig.add_subplot()\n",
    "y = df[\"Profundidade\"].values\n",
    "mdn = df[\"Tr_IH_Log (mdn)\"].values\n",
    "min = df[\"Tr_IH_Log (min)\"].values\n",
    "med = df[\"Tr_IH_Log (med)\"].values\n",
    "Ro = df[\"Tr_Ro_Log\"].values\n",
    "ax.plot(mdn, y, color='darkslategray')\n",
    "ax.plot(min, y, color='olive')\n",
    "ax.plot(med, y, color='saddlebrown')\n",
    "ax.plot(Ro, y, color='black')\n",
    "ax.scatter(mdn, y, color='darkgray')\n",
    "ax.scatter(min, y, color='darkgray')\n",
    "ax.scatter(med, y, color='darkgray')\n",
    "ax.scatter(Ro, y, color='darkgray')\n",
    "plt.legend()\n",
    "plt.gca().invert_yaxis()\n",
    "plt.xlim(0,1)\n",
    "plt.xlabel(\"Taxa de Tranformação(Log)\")\n",
    "plt.ylabel(\"Profundidade (m)\")\n",
    "plt.style.use(custom_style)\n",
    "plt.show()"
   ]
  },
  {
   "cell_type": "markdown",
   "metadata": {},
   "source": [
    "#### Decisão sobre a curva Log "
   ]
  },
  {
   "cell_type": "code",
   "execution_count": null,
   "metadata": {},
   "outputs": [],
   "source": [
    "sub1=np.sqrt((df[\"Tr_IH_Log (mdn)\"]-df[\"Tr_Ro_Log\"])**2)\n",
    "sub2=np.sqrt((df[\"Tr_IH_Log (min)\"]-df[\"Tr_Ro_Log\"])**2)\n",
    "sub3=np.sqrt((df[\"Tr_IH_Log (med)\"]-df[\"Tr_Ro_Log\"])**2)\n",
    "data=[sub1,sub2,sub3]\n",
    "plt.boxplot(data)\n",
    "custom_labels_x = ['Mediana', 'Mínimo', 'Média']\n",
    "plt.xticks(np.arange(1, len(custom_labels_x) + 1), custom_labels_x)\n",
    "plt.style.use(custom_style)\n",
    "plt.show()\n"
   ]
  },
  {
   "cell_type": "markdown",
   "metadata": {},
   "source": [
    "#### Gráfico final (output) para Taxa de Transformação"
   ]
  },
  {
   "cell_type": "code",
   "execution_count": null,
   "metadata": {},
   "outputs": [],
   "source": [
    "fig = plt.figure()\n",
    "ax = fig.add_subplot()\n",
    "#y = df[\"Profundidade\"].values\n",
    "#mdn = df[\"Tr_IH_Log (mdn)\"].values\n",
    "#min = df[\"Tr_IH_Log (min)\"].values\n",
    "#med = df[\"Tr_IH_Log (med)\"].values\n",
    "#Ro = df[\"Tr_Ro_Log\"].values\n",
    "\n",
    "if sub1.mean()+sub1.std() < sub2.mean()+sub2.std() and sub1.mean()+sub1.std() < sub3.mean()+sub3.std():\n",
    "    a=mdn\n",
    "elif sub2.mean()+sub2.std() < sub1.mean()+sub1.std() and sub2.mean()+sub2.std() < sub3.mean()+sub3.std():\n",
    "    a=min\n",
    "else:\n",
    "    a=med\n",
    "\n",
    "ax.plot(a, y, color='midnightblue')\n",
    "ax.plot(Ro, y, color='black')\n",
    "ax.scatter(a, y, color='darkgray')\n",
    "ax.scatter(Ro, y, color='darkgray')\n",
    "plt.legend()\n",
    "plt.gca().invert_yaxis()\n",
    "plt.xlim(0,1)\n",
    "plt.xlabel(\"Taxa de Tranformação(Log)\")\n",
    "plt.ylabel(\"Profundidade (m)\")\n",
    "plt.style.use(custom_style)\n",
    "plt.show()"
   ]
  },
  {
   "cell_type": "markdown",
   "metadata": {},
   "source": [
    "##### Cálculo de TOC0, S20 e IH0\n",
    "* S20 = S2 / (1 - Tr)\n",
    "* COT0 = COTr + ((S2 x tr)/(1 - Tr))x0,086\n",
    "* IH0 = S20/COT0"
   ]
  },
  {
   "cell_type": "code",
   "execution_count": null,
   "metadata": {},
   "outputs": [],
   "source": [
    "Tr = df[\"Taxa de Transformação (IH)\"]\n",
    "df[\"S20\"]=df[\"S2\"]/(1-Tr)\n",
    "df[\"COT0\"]=df[\"COT\"]+((df[\"S2\"]*Tr)/(1-Tr))*0.086\n",
    "df[\"IH0\"]=100*df[\"S20\"]/df[\"COT0\"]\n",
    "df"
   ]
  },
  {
   "cell_type": "markdown",
   "metadata": {},
   "source": [
    "#### Cálculo de OSI"
   ]
  },
  {
   "cell_type": "code",
   "execution_count": null,
   "metadata": {},
   "outputs": [],
   "source": [
    "df[\"OSI\"]=((df[\"S1\"]/df[\"COT\"])*100)\n",
    "df"
   ]
  },
  {
   "cell_type": "markdown",
   "metadata": {},
   "source": [
    "#### Gráfico OSI"
   ]
  },
  {
   "cell_type": "code",
   "execution_count": null,
   "metadata": {},
   "outputs": [],
   "source": [
    "plt.plot([0,20],[0,20], color=\"darkred\", linestyle=\"--\")\n",
    "plt.scatter(df[\"COT\"], df[\"S1\"], color=\"black\")\n",
    "plt.ylabel(\"Teor de óleo livre (S1  em mg HC/mg rocha)\")\n",
    "plt.xlabel(\"COT (wt%)\")\n",
    "plt.text(3.0, 3.5, \"Limite de saturação de óleo\", rotation=31.3)\n",
    "plt.xscale(\"log\")\n",
    "plt.yscale(\"log\")\n",
    "plt.xlim(0.0,20.0)\n",
    "plt.ylim(0.0,20.0)\n",
    "plt.show()"
   ]
  },
  {
   "cell_type": "markdown",
   "metadata": {},
   "source": [
    "#### Diagrama de Van Krevelen"
   ]
  },
  {
   "cell_type": "code",
   "execution_count": null,
   "metadata": {},
   "outputs": [],
   "source": [
    "df[\"S2/S3\"]=df[\"S2\"]/df[\"S3\"]\n",
    "df"
   ]
  },
  {
   "cell_type": "code",
   "execution_count": null,
   "metadata": {},
   "outputs": [],
   "source": [
    "plt.figure(figsize=(8, 6))\n",
    "sns.scatterplot(data=df, x=df[\"IO\"], y=df[\"IH\"], marker='o', color='darkcyan', s=100)\n",
    "plt.xlabel(\"Índice de Oxigênio\")\n",
    "plt.ylabel(\"Índice de Hidrogênio\")\n",
    "plt.title(\"Diagrama de Van Krevelen\")\n",
    "plt.grid(True)\n",
    "plt.show()"
   ]
  },
  {
   "cell_type": "markdown",
   "metadata": {},
   "source": [
    "## Figura com gráficos de Output"
   ]
  },
  {
   "cell_type": "code",
   "execution_count": null,
   "metadata": {},
   "outputs": [],
   "source": [
    "\n",
    "%matplotlib inline\n",
    "\n",
    "# Figura com tamanho A4\n",
    "\n",
    "a4_width = 8.27  # inches\n",
    "a4_height = 11.69  # inches\n",
    "\n",
    "fig = plt.figure(figsize=(a4_width, a4_height), layout='constrained')\n",
    "L1 = GridSpec(3,4, figure=fig, width_ratios=[1, 1,1,2], height_ratios=[1,1, 1.5])\n",
    "L2 = GridSpec(3,4, figure=fig)\n",
    "\n",
    "# Posição dos gráficos \n",
    "\n",
    "ax1=fig.add_subplot(L2[1,0]) #==== COT ======#\n",
    "ax2=fig.add_subplot(L2[1,1]) #==== IH ======#\n",
    "ax3=fig.add_subplot(L2[2,0]) #==== Tmax ======#\n",
    "ax4=fig.add_subplot(L2[2,1]) #==== Tr (log) ======#\n",
    "ax5=fig.add_subplot(L1[2,-1]) #=== Van krevelen ===#\n",
    "ax6=fig.add_subplot(L1[0,-1]) #===COT x S2 ====#\n",
    "#ax7=fig.add_subplot(spec[2,3]) #=== OSI ===#\n",
    "ax8=fig.add_subplot(L1[1,-1]) #== OSI (S1 x COT)==#\n",
    "plt.style.use(custom_style)\n",
    "\n",
    "#==== COT ======#\n",
    "\n",
    "ax1.scatter(df[\"COT\"], df[\"Profundidade\"], color=\"dimgray\",s=10, edgecolor='black', linewidth=0.65, alpha=0.75)\n",
    "ax1.scatter(df[\"COT0\"], df[\"Profundidade\"],s=15,c=\"royalblue\", edgecolor=\"black\", linewidth=0.3)\n",
    "ax1.set_ylim(ax1.get_ylim()[::-1])\n",
    "ax1.set_xlim(0.0, 20.0)\n",
    "ax1.axvline(2, color=\"black\", linewidth=1, linestyle=\"--\")\n",
    "ax1.set_xlabel(\"COT | COT0 (wt%)\")\n",
    "ax1.set_ylabel(\"Profundidade (m)\")\n",
    "\n",
    "#==== IH ======#\n",
    "\n",
    "ax2.scatter(df[\"IH\"], df[\"Profundidade\"], color=\"dimgray\", s=10, edgecolor='black', linewidth=0.65, alpha=0.75)\n",
    "ax2.axvline(600, color=\"black\", linewidth=1, linestyle=\"--\")\n",
    "ax2.axvline(300, color=\"black\", linewidth=1, linestyle=\"--\")\n",
    "ax2.axvline(200, color=\"black\", linewidth=1, linestyle=\"--\")\n",
    "ax2.axvline(50, color=\"black\", linewidth=1, linestyle=\"--\")\n",
    "ax2.set_xlabel(\"IH (mgHC/gCOT)\")\n",
    "ax2.set_xlim(0.0, 1000.0)\n",
    "ax2.set_ylim(ax2.get_ylim()[::-1])\n",
    "ax2.set_yticklabels([])\n",
    "ax2.set_ylabel(\"\")\n",
    "\n",
    "#==== Tmax ======#\n",
    "\n",
    "ax3.scatter(df[\"Tmax\"], df[\"Profundidade\"], color=\"dimgray\", s=10, edgecolor='black', linewidth=0.65, alpha=0.75)\n",
    "ax3.set_ylim(ax3.get_ylim()[::-1])\n",
    "ax3.axvline(435, color=\"black\", linewidth=1, linestyle=\"--\")\n",
    "ax3.axvline(450, color=\"black\", linewidth=1, linestyle=\"--\")\n",
    "ax3.axvline(470, color=\"black\", linewidth=1, linestyle=\"--\")\n",
    "ax3.set_xlabel(\"Tmax\")\n",
    "ax3.set_ylabel(\"Profundidade (m)\")\n",
    "ax3.set_xlim(350,550)\n",
    "\n",
    "#==== Tr (log) ======#\n",
    "\n",
    "if sub1.mean()+sub1.std() < sub2.mean()+sub2.std() and sub1.mean()+sub1.std() < sub3.mean()+sub3.std():\n",
    "    a=mdn\n",
    "elif sub2.mean()+sub2.std() < sub1.mean()+sub1.std() and sub2.mean()+sub2.std() < sub3.mean()+sub3.std():\n",
    "    a=min\n",
    "else:\n",
    "    a=med\n",
    "\n",
    "ax4.plot(a, y, color='black', linewidth=1)\n",
    "ax4.scatter(a, y, color='darkgray', s=12)\n",
    "ax4.set_ylim(ax4.get_ylim()[::-1])\n",
    "ax4.set_xlabel(\"TR(Log)\")\n",
    "ax4.set_ylabel(\"\")\n",
    "ax4.set_yticklabels([])\n",
    "ax4.set_xlim(0,1)\n",
    "\n",
    "#====== Van krevelen ======#\n",
    "\n",
    "ax5.scatter(df[\"S2/S3\"], df[\"IH\"], color=\"dimgray\", edgecolor=\"black\", s=10, linewidth=0.75, alpha=0.8)\n",
    "ax5.add_patch(patches.Rectangle((15,600),400,500, linewidth=1, edgecolor='black', facecolor='none', linestyle=\"--\")) # Tipo 1\n",
    "ax5.add_patch(patches.Rectangle((10,300),5,300, linewidth=1, edgecolor='black', facecolor='none', linestyle=\"--\")) # Tipo II\n",
    "ax5.add_patch(patches.Rectangle((5,200),5,100, linewidth=1, edgecolor='black', facecolor='none', linestyle=\"--\")) # Tipo II/III\n",
    "ax5.add_patch(patches.Rectangle((1,50),4,150, linewidth=1, edgecolor='black', facecolor='none', linestyle=\"--\")) # Tipo III\n",
    "ax5.add_patch(patches.Rectangle((0,0),1,50, linewidth=1, edgecolor='black', facecolor='none', linestyle=\"--\"))  # Tipo IV\n",
    "ax5.text(35,750, \"I\", fontsize=12)\n",
    "ax5.text(11.3,390, \"II\", fontsize=12)\n",
    "ax5.text(5.0,230, \"II/III\", fontsize=12)\n",
    "ax5.text(2.0,100, \"III\", fontsize=12)\n",
    "ax5.text(0.27,22, \"IV\", fontsize=12)\n",
    "ax5.set_xscale(\"log\")\n",
    "ax5.set_yscale(\"log\")\n",
    "ax5.set_xlim(0.1,100)\n",
    "ax5.set_ylim(10,1000)\n",
    "ax5.set_xlabel(\"S2/S3\")\n",
    "ax5.set_ylabel(\"IH (mgHC/gCOT)\")\n",
    "ax5.set_title(\"Diagrama de Van Krevelen\")\n",
    "ax5.grid(False)\n",
    "\n",
    "#======== COT x S2 ========#\n",
    "\n",
    "ax6.scatter(df[\"S2\"], df[\"COT\"], color=\"dimgray\",s=10,edgecolor='black', linewidth=0.65, alpha=0.75 )\n",
    "ax6.set_xscale(\"log\")\n",
    "ax6.set_yscale(\"log\")\n",
    "ax6.plot([10,10],[2,100], color=\"olive\", linestyle=\":\", linewidth=1.5)\n",
    "ax6.plot([10,100],[2,2], color=\"olive\", linestyle=\":\", linewidth=1.5)\n",
    "ax6.plot([2.5,2.5],[0.5,100], color=\"sienna\", linestyle=\":\", linewidth=1.5)\n",
    "ax6.plot([2.5,100],[0.5,0.5], color=\"sienna\", linestyle=\":\", linewidth=1.5)\n",
    "ax6.text(15,75, \"Excelente\")\n",
    "ax6.text(0.7,75, \"Pobre\")\n",
    "ax6.set_xlabel(\"S2 (mg HC/mg rocha)\")\n",
    "ax6.set_ylabel(\"COT (wt%)\")\n",
    "ax6.set_xlim(0.1,100)\n",
    "ax6.set_ylim(0.1,100)\n",
    "\n",
    "#========== OSI ===========#\n",
    "\n",
    "#ax7.scatter(df[\"OSI\"], df[\"Profundidade\"], color=\"black\")\n",
    "#ax7.set_ylim(ax1.get_ylim()[::-1])\n",
    "#ax7.set_xlim(0.0, 200.0)\n",
    "#ax7.axvline(100, color=\"darkred\", linestyle=\"--\")\n",
    "#ax7.set_yticklabels([])\n",
    "#ax7.set_xlabel(\"OSI (wt%)\")\n",
    "#ax7.set_ylabel(\"\")\n",
    "\n",
    "#========= OSI (S1 x COT)============#\n",
    "\n",
    "ax8.plot([0,100],[0,100], color=\"brown\", linestyle=\"-\", linewidth=0.7)\n",
    "ax8.scatter(df[\"COT\"], df[\"S1\"], color=\"dimgray\", s=10, edgecolor='black', linewidth=0.65, alpha=0.75)\n",
    "ax8.set_ylabel(\"S1 (mg HC/mg rocha)\")\n",
    "ax8.set_xlabel(\"COT (wt%)\")\n",
    "#ax8.text(1.3, 1.6, \"Limite de saturação de óleo\", rotation=35)\n",
    "ax8.set_xlim(0.1,100.0)\n",
    "ax8.set_ylim(0.01,100.0)\n",
    "ax8.set_xscale(\"log\")\n",
    "ax8.set_yscale(\"log\")\n",
    "\n",
    "\n",
    "plt.savefig(\"Outputs_Figuras/Figura.pdf\")\n",
    "\n"
   ]
  },
  {
   "cell_type": "markdown",
   "metadata": {},
   "source": [
    "# Planilha de Output"
   ]
  },
  {
   "cell_type": "code",
   "execution_count": null,
   "metadata": {},
   "outputs": [],
   "source": [
    "mdn1 = df[\"Tr_IH_Log (mdn)\"]\n",
    "min1 = df[\"Tr_IH_Log (min)\"]\n",
    "med1 = df[\"Tr_IH_Log (med)\"]\n",
    "\n",
    "if sub1.mean()+sub1.std() < sub2.mean()+sub2.std() and sub1.mean()+sub1.std() < sub3.mean()+sub3.std():\n",
    "    b=mdn\n",
    "elif sub2.mean()+sub2.std() < sub1.mean()+sub1.std() and sub2.mean()+sub2.std() < sub3.mean()+sub3.std():\n",
    "    b=min\n",
    "else:\n",
    "    b=med\n",
    "df_csv=df[[\"Profundidade\",\"COT\",\"S1\",\"S2\",\"S3\",\"Tmax\",\"IH\",\"IO\",\"Cluster\"]]\n",
    "df_csv[[\"COTa\",\"IH0a\"]]=df[[\"COTa\",\"IH0\"]].round(2)\n",
    "df_csv[\"Querogênio\"]=df[\"Querogênio\"]\n",
    "df_csv[\"Tr_Ro_Log\"]=df[\"Tr_Ro_Log\"].round(3)\n",
    "df_csv[\"Tr_IH_Log\"]=b.round(3) \n",
    "df_csv[[\"COT0\",\"S20\",\"IH0\"]]=df[[\"COT0\",\"S20\",\"IH0\"]].round(2)\n",
    "df_csv.to_csv(\"Outputs_Planilhas/Planilha.csv\")\n",
    "df_csv"
   ]
  }
 ],
 "metadata": {
  "kernelspec": {
   "display_name": "Python 3",
   "language": "python",
   "name": "python3"
  },
  "language_info": {
   "codemirror_mode": {
    "name": "ipython",
    "version": 3
   },
   "file_extension": ".py",
   "mimetype": "text/x-python",
   "name": "python",
   "nbconvert_exporter": "python",
   "pygments_lexer": "ipython3",
   "version": "3.10.12"
  },
  "orig_nbformat": 4
 },
 "nbformat": 4,
 "nbformat_minor": 2
}
