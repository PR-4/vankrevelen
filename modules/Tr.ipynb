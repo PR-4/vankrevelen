{
 "cells": [
  {
   "cell_type": "markdown",
   "metadata": {},
   "source": [
    "# Notebook de implementa\u00e7\u00e3o, valida\u00e7\u00e3o e automa\u00e7\u00e3o do Tr"
   ]
  },
  {
   "cell_type": "code",
   "execution_count": 1,
   "metadata": {},
   "source": [
    "import pandas as pd\n",
    "import numpy as np\n",
    "import scipy\n",
    "from scipy.optimize import curve_fit\n",
    "import plotly.express as px\n",
    "import plotly.graph_objects as go\n",
    "import matplotlib.pyplot as plt\n",
    "import plotly.io as pio"
   ],
   "outputs": []
  },
  {
   "cell_type": "code",
   "execution_count": 2,
   "metadata": {},
   "source": [
    "df = pd.read_csv(\"Simulacao_maturacao_1.csv\")"
   ],
   "outputs": []
  },
  {
   "cell_type": "code",
   "execution_count": 3,
   "metadata": {},
   "source": [
    "def filter_tr_values(row):\n",
    "    try:\n",
    "        if row['Taxa de Transforma\u00e7\u00e3o [v/v]'] > 1:\n",
    "            row = 1\n",
    "        if row['Taxa de Transforma\u00e7\u00e3o [v/v]'] < 0:\n",
    "            row = 0\n",
    "        else:\n",
    "            row = row['Taxa de Transforma\u00e7\u00e3o [v/v]']\n",
    "        return row\n",
    "    except:\n",
    "        row = 1\n",
    "        return row"
   ],
   "outputs": []
  },
  {
   "cell_type": "code",
   "metadata": {},
   "source": [
    "def tr_lamina_dagua(simulations_df, mediana_minimo, lamina_dagua, variavel_hi, variavel_hia, variavel_profundidade):\n",
    "    # O c\u00e1lculo de tr seguir\u00e1 os seguintes passos:\n",
    "    # 1. Calcular o tr em todas as amostras do po\u00e7o com a equa\u00e7ao Tr = (HIa - HI)/HIa onde HIa \u00e9 indice de hidrogenio ativo e o HI \u00e9 o indice de hidrogenio\n",
    "    # 2. Calcular a mediana ou o m\u00ednimo de todos os valores de Tr calculados no passo 1.\n",
    "    # 3. Onde a profunddidade for igual ou menor que a laminadagua, o valor de Tr ser\u00e1 igual a zero.\n",
    "    # 4. Ajustar uma curva logaritmica com a profundidade da lamina dagua e a profundidade final e o tr na lamina dagua (zero) e o tr na profundidade final (mediana ou m\u00ednimo), utilizando scipy curve_fit\n",
    "    #import scipy\n",
    "\n",
    "    # 1. Calcular o tr em todas as amostras do po\u00e7o com a equa\u00e7ao Tr = (HIa - HI)/HIa onde HIa \u00e9 indice de hidrogenio ativo e o HI \u00e9 o indice de hidrogenio\n",
    "    simulations_df['Tr'] = (simulations_df[variavel_hia] - simulations_df[variavel_hi]) / simulations_df[variavel_hia]\n",
    "    simulations_df[\"Tr\"] = df.apply(filter_tr_values, axis=1)\n",
    "\n",
    "    # 2. Calcular a mediana ou o m\u00ednimo de todos os valores de Tr calculados no passo 1.\n",
    "    if mediana_minimo == 'mediana':\n",
    "        tr_mediana = simulations_df['Tr'].median()\n",
    "    if mediana_minimo == 'minimo':\n",
    "        tr_mediana = simulations_df['Tr'].min()\n",
    "\n",
    "    # 3. Onde a profunddidade for igual ou menor que a laminadagua, o valor de Tr ser\u00e1 igual a zero.\n",
    "    simulations_df.loc[simulations_df[variavel_profundidade] <= lamina_dagua, 'Tr'] = 0\n",
    "\n",
    "    print(simulations_df[\"Tr\"])\n",
    "    print(tr_mediana)\n",
    "    # 4. Ajustar uma curva logaritmica com a profundidade da lamina dagua e a profundidade final e o tr na lamina dagua (zero) e o tr na profundidade final (mediana ou m\u00ednimo), utilizando scipy curve_fit\n",
    "    x = [lamina_dagua, simulations_df[variavel_profundidade].max()]\n",
    "    y = [0, tr_mediana]\n",
    "\n",
    "    log_fit = scipy.optimize.curve_fit(lambda t, a, b: a + b * np.log(t), x, y)\n",
    "    a = log_fit[0][0]\n",
    "    b = log_fit[0][1]\n",
    "\n",
    "    # 5. Calcular o tr em todas as amostras do po\u00e7o com a equa\u00e7ao Tr = a + b * ln(profundidade)\n",
    "    simulations_df['Tr'] = a + b * np.log(simulations_df[variavel_profundidade])\n",
    "\n",
    "    # Extra: aplicando novamente filtro para que tr seja 0 abaixo da lamina d'agua\n",
    "    simulations_df.loc[simulations_df[variavel_profundidade] <= lamina_dagua, 'Tr'] = 0\n",
    "\n",
    "    return simulations_df"
   ],
   "outputs": [],
   "execution_count": 5
  },
  {
   "cell_type": "code",
   "metadata": {},
   "source": [
    "variavel_hia = 'IH\u2080 Ativo [mg HC/g COT]'\n",
    "variavel_hi = 'IH [mg HC/g COT'\n",
    "variavel_profundidade = \"Profundidade [m]\"\n",
    "mediana_minimo = \"mediana\"\n",
    "lamina_dagua = 3000"
   ],
   "outputs": [],
   "execution_count": 6
  },
  {
   "cell_type": "code",
   "execution_count": 7,
   "metadata": {},
   "source": [
    "df = tr_lamina_dagua(df, \"minimo\", lamina_dagua, variavel_hi, variavel_hia, variavel_profundidade)"
   ],
   "outputs": [
    {
     "name": "stdout",
     "output_type": "stream",
     "text": [
      "0      0.000000\n1      0.000000\n2      0.000000\n3      0.000000\n4      0.000000\n         ...   \n123    0.466024\n124    0.468820\n125    0.471619\n126    0.474421\n127    0.480030\nName: Tr, Length: 128, dtype: float64\n0.0\n"
     ]
    },
    {
     "name": "stderr",
     "output_type": "stream",
     "text": [
      "/home/victor/anaconda3/lib/python3.9/site-packages/scipy/optimize/_minpack_py.py:1010: OptimizeWarning: Covariance of the parameters could not be estimated\n  warnings.warn('Covariance of the parameters could not be estimated',\n"
     ]
    }
   ]
  },
  {
   "cell_type": "code",
   "metadata": {},
   "source": [
    "print(df)"
   ],
   "outputs": [
    {
     "name": "stdout",
     "output_type": "stream",
     "text": [
      "     Profundidade [m]  COT [%]  S1 [mg HC/g rocha]  S2 [mg HC/g rocha]  \\\n0                2400     1.01                2.29                2.60   \n1                2820     1.07                0.25                0.39   \n2                2829   681.00                0.62                0.92   \n3                2847     0.98                0.44                0.83   \n4                2856     1.27                0.54                1.01   \n..                ...      ...                 ...                 ...   \n123              5049     1.70                1.15                3.47   \n124              5052     1.30                1.00                2.69   \n125              5055     1.22                0.95                2.41   \n126              5058     1.17                0.96                2.42   \n127              5064     1.20                0.86                2.51   \n\n     S3 [mg CO2/g rocha]  Tm\u00e1x [\u00b0C]  IH [mg HC/g COT  IO [mg CO2/g COT]  \\\n0                   4.34        378         257.4258        429703.0000   \n1                   2.83        319          36.4486        264486.0000   \n2                   1.35        290         135.0955           198.2379   \n3                   1.43        288          84.6939           145.9184   \n4                   1.76        290          79.5276           138.5827   \n..                   ...        ...              ...                ...   \n123                 1.83        441         204.1176           107.6471   \n124                 2.27        440         206.9231           174.6154   \n125                 1.59        446      197541.0000           130.3279   \n126                 2.54        440         206.8376        217094.0000   \n127                 2.08        441         209.1666           173.3333   \n\n     Ro [%]  IH Calculado [mg HC/g COT]  ...  Carbono Ativo [%]  \\\n0       NaN                  257.425743  ...              1.010   \n1      0.25                   36.448598  ...              1.070   \n2       NaN                  135.095448  ...              0.681   \n3       NaN                   84.693878  ...              0.980   \n4       NaN                   79.527559  ...              1.270   \n..      ...                         ...  ...                ...   \n123     NaN                  204.117647  ...              1.700   \n124     NaN                  206.923077  ...              1.300   \n125     NaN                  197.540984  ...              1.220   \n126     NaN                  206.837607  ...              1.170   \n127     NaN                  209.166667  ...              1.200   \n\n     Carbono Inerte [%]  IH\u2080 Ativo [mg HC/g COT]  Ro [%]_ajustado  \\\n0         -5.295409e-16               257.425743         0.200000   \n1         -5.295409e-16                36.448598         0.185195   \n2         -5.295409e-16               135.095448         0.189143   \n3         -5.295409e-16                84.693878         0.197000   \n4         -5.295409e-16                79.527559         0.200911   \n..                  ...                      ...              ...   \n123        4.405924e-16               204.117647         0.906799   \n124        4.405924e-16               206.923077         0.907535   \n125       -5.295409e-16               197.540984         0.908271   \n126       -5.295409e-16               206.837607         0.909006   \n127       -5.295409e-16               209.166667         0.910474   \n\n     Taxa de Transforma\u00e7\u00e3o [v/v]    COT\u2080 [%]  S2\u2080 [mg HC/g rocha]  \\\n0                       0.000000    1.010000             2.600000   \n1                       0.000000    1.070000             0.390000   \n2                       0.000000  681.000000             0.920000   \n3                       0.000000    0.980000             0.830000   \n4                       0.000000    1.270000             1.010000   \n..                           ...         ...                  ...   \n123                     0.466024    1.960444             6.498420   \n124                     0.468820    1.504181             5.064201   \n125                     0.471619    1.404995             4.561106   \n126                     0.474421    1.357862             4.604444   \n127                     0.480030    1.399280             4.827205   \n\n     R\u2092 calculada [%]  IH\u2080 [mg HC/g COT]             Tr  \n0               0.000         257.425743   0.000000e+00  \n1               0.000          36.448598   0.000000e+00  \n2               0.000         135.095448   0.000000e+00  \n3               0.000          84.693878   0.000000e+00  \n4               0.000          79.527559   0.000000e+00  \n..                ...                ...            ...  \n123             0.778         331.476933 -6.497638e-317  \n124             0.760         336.674908 -6.512752e-317  \n125             0.868         324.635005 -6.527856e-317  \n126             0.760         339.095068 -6.542951e-317  \n127             0.778         344.977871 -6.573115e-317  \n\n[128 rows x 21 columns]\n"
     ]
    }
   ],
   "execution_count": 8
  },
  {
   "cell_type": "code",
   "metadata": {},
   "source": [
    "pio.renderers.default = \"firefox\"\n",
    "fig = px.line(y='Tm\u00e1x [\u00b0C]', x=variavel_profundidade, data_frame=df)\n",
    "fig.show()"
   ],
   "outputs": [],
   "execution_count": 10
  },
  {
   "cell_type": "code",
   "metadata": {},
   "source": [],
   "outputs": [],
   "execution_count": null
  }
 ],
 "metadata": {
  "kernelspec": {
   "display_name": "Python 3",
   "language": "python",
   "name": "python3"
  },
  "language_info": {
   "file_extension": ".py",
   "mimetype": "text/x-python",
   "name": "python",
   "version": "3.9.2"
  }
 },
 "nbformat": 4,
 "nbformat_minor": 4
}
