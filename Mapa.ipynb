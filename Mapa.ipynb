{
 "cells": [
  {
   "cell_type": "code",
   "execution_count": 15,
   "metadata": {},
   "outputs": [
    {
     "name": "stdout",
     "output_type": "stream",
     "text": [
      "Using matplotlib backend: TkAgg\n"
     ]
    }
   ],
   "source": [
    "%matplotlib \n",
    "import pandas as pd\n",
    "import geopandas as gpd\n",
    "from eomaps import Maps\n",
    "import folium\n",
    "import matplotlib.pyplot as plt\n"
   ]
  },
  {
   "attachments": {},
   "cell_type": "markdown",
   "metadata": {},
   "source": [
    "#### Dados de entrada"
   ]
  },
  {
   "cell_type": "code",
   "execution_count": 16,
   "metadata": {},
   "outputs": [],
   "source": [
    "\n",
    "contorno = gpd.read_file(\"shp/batimetria/GEBCO_SA_bath_contours.shp\")\n",
    "contorno = contorno.set_crs(epsg = \"4326\", inplace = True, allow_override = True)\n",
    "PR3 = pd.read_excel(\"inputs/Poços_GIS.xlsx\",header = 0 ,usecols = ['Nome','LATITUDE','LONGITUDE'] )"
   ]
  },
  {
   "attachments": {},
   "cell_type": "markdown",
   "metadata": {},
   "source": [
    "#### Transforma em um geodataframe"
   ]
  },
  {
   "cell_type": "code",
   "execution_count": 17,
   "metadata": {},
   "outputs": [
    {
     "name": "stdout",
     "output_type": "stream",
     "text": [
      "        ID  DEPTH                                           geometry\n",
      "0    46670 -100.0  MULTILINESTRING ((-43.15551 -22.94563, -43.155...\n",
      "1    46671 -100.0  MULTILINESTRING ((-43.16387 -22.94816, -43.163...\n",
      "2    46688 -100.0  LINESTRING (-44.27971 -23.02734, -44.28125 -23...\n",
      "3    46692 -100.0  MULTILINESTRING ((-44.34944 -23.03865, -44.347...\n",
      "4    46694 -100.0  MULTILINESTRING ((-44.25208 -23.04542, -44.249...\n",
      "..     ...    ...                                                ...\n",
      "687  16667 -750.0  LINESTRING (-46.78093 -27.28958, -46.78125 -27...\n",
      "688  16668 -750.0  LINESTRING (-46.87292 -27.29524, -46.87148 -27...\n",
      "689  16681 -750.0  LINESTRING (-46.86024 -27.36042, -46.86042 -27...\n",
      "690  16683 -750.0  LINESTRING (-46.87187 -27.37292, -46.87292 -27...\n",
      "691  19733 -750.0  MULTILINESTRING ((-45.00000 -25.55473, -45.000...\n",
      "\n",
      "[692 rows x 3 columns]\n",
      "               Nome   LATITUDE  LONGITUDE                     geometry\n",
      "0        1-ALS-1-AL  -9.967724 -35.910709   POINT (-35.91071 -9.96772)\n",
      "1        1-ALS-2-AL  -9.713247 -35.675769   POINT (-35.67577 -9.71325)\n",
      "2        1-ALS-3-AL -10.121653 -35.931564  POINT (-35.93156 -10.12165)\n",
      "3        1-ALS-4-AL -10.423462 -36.170926  POINT (-36.17093 -10.42346)\n",
      "4        1-ALS-6-AL  -9.595347 -35.221382   POINT (-35.22138 -9.59535)\n",
      "..              ...        ...        ...                          ...\n",
      "57   6-BRSA-486-ESS -19.908548 -39.617479  POINT (-39.61748 -19.90855)\n",
      "58  6-BRSA-505P-ESS -20.022143 -39.548494  POINT (-39.54849 -20.02214)\n",
      "59      6-CM-36-SES -11.015349 -37.022276  POINT (-37.02228 -11.01535)\n",
      "60      6-CM-37-SES -11.013660 -36.988477  POINT (-36.98848 -11.01366)\n",
      "61      7-GA-36-SES -11.131789 -37.047690  POINT (-37.04769 -11.13179)\n",
      "\n",
      "[62 rows x 4 columns]\n"
     ]
    }
   ],
   "source": [
    "\n",
    "PR3 = gpd.GeoDataFrame(PR3,\n",
    "            geometry = \n",
    "            gpd.points_from_xy(x=PR3.LONGITUDE, y=PR3.LATITUDE),\n",
    "            crs = \"EPSG:4326\"\n",
    "            )\n",
    "\n",
    "print(contorno)\n",
    "print(PR3)"
   ]
  },
  {
   "cell_type": "code",
   "execution_count": 18,
   "metadata": {},
   "outputs": [],
   "source": [
    "# Processamento\n",
    "m = Maps(crs=Maps.CRS.Mercator.GOOGLE)\n",
    "m.set_extent((-72.0, -30.0, -35.0, -5.0))"
   ]
  },
  {
   "cell_type": "code",
   "execution_count": null,
   "metadata": {},
   "outputs": [
    {
     "data": {
      "text/plain": [
       "[<matplotlib.collections.LineCollection at 0x7f1ca4afc610>]"
      ]
     },
     "execution_count": 10,
     "metadata": {},
     "output_type": "execute_result"
    }
   ],
   "source": [
    "# Batimetria\n",
    "m.add_gdf(contorno, column=\"DEPTH\", legend=True)"
   ]
  },
  {
   "cell_type": "code",
   "execution_count": null,
   "metadata": {},
   "outputs": [
    {
     "data": {
      "text/plain": [
       "[<matplotlib.collections.PathCollection at 0x7f1ca4a087f0>]"
      ]
     },
     "execution_count": 11,
     "metadata": {},
     "output_type": "execute_result"
    }
   ],
   "source": [
    "# Adiciona os poços como uma nova camada do mapa\n",
    "m.add_gdf(PR3, fc=\"r\", ec=\"b\", lw=3, legend=True)"
   ]
  },
  {
   "cell_type": "code",
   "execution_count": null,
   "metadata": {},
   "outputs": [
    {
     "name": "stdout",
     "output_type": "stream",
     "text": [
      "EOmaps: ... fetching services for 'ERSI_ArcGIS_REST'\n",
      "EOmaps: done!\n",
      "World_Imagery\n",
      "EOmaps: ... adding wms-layer xyz_layer\n"
     ]
    }
   ],
   "source": [
    "#ESRI\n",
    "m.add_wms.ESRI_ArcGIS.SERVICES.World_Imagery.add_layer.xyz_layer()"
   ]
  },
  {
   "cell_type": "code",
   "execution_count": null,
   "metadata": {},
   "outputs": [
    {
     "data": {
      "text/plain": [
       "<eomaps.compass.Compass at 0x7f1ca4a086d0>"
      ]
     },
     "execution_count": 13,
     "metadata": {},
     "output_type": "execute_result"
    }
   ],
   "source": [
    "#Adiciona norte e escala\n",
    "m.add_scalebar()\n",
    "m.add_compass()"
   ]
  },
  {
   "cell_type": "code",
   "execution_count": null,
   "metadata": {},
   "outputs": [
    {
     "name": "stderr",
     "output_type": "stream",
     "text": [
      "Exception in Tkinter callback\n",
      "Traceback (most recent call last):\n",
      "  File \"/usr/lib/python3.10/tkinter/__init__.py\", line 1921, in __call__\n",
      "    return self.func(*args)\n",
      "  File \"/usr/lib/python3.10/tkinter/__init__.py\", line 839, in callit\n",
      "    func(*args)\n",
      "  File \"/usr/lib/python3/dist-packages/matplotlib/backends/_backend_tk.py\", line 489, in delayed_destroy\n",
      "    self.window.destroy()\n",
      "  File \"/usr/lib/python3.10/tkinter/__init__.py\", line 2341, in destroy\n",
      "    self.tk.call('destroy', self._w)\n",
      "_tkinter.TclError: can't invoke \"destroy\" command: application has been destroyed\n",
      "invalid command name \"139760993291904idle_draw\"\n",
      "    while executing\n",
      "\"139760993291904idle_draw\"\n",
      "    (\"after\" script)\n"
     ]
    }
   ],
   "source": [
    "#saída\n",
    "plt.ylabel('Latitude')\n",
    "plt.xlabel('Longitude')\n",
    "plt.show()"
   ]
  }
 ],
 "metadata": {
  "kernelspec": {
   "display_name": "Python 3",
   "language": "python",
   "name": "python3"
  },
  "language_info": {
   "codemirror_mode": {
    "name": "ipython",
    "version": 3
   },
   "file_extension": ".py",
   "mimetype": "text/x-python",
   "name": "python",
   "nbconvert_exporter": "python",
   "pygments_lexer": "ipython3",
   "version": "3.10.6"
  },
  "orig_nbformat": 4
 },
 "nbformat": 4,
 "nbformat_minor": 2
}
